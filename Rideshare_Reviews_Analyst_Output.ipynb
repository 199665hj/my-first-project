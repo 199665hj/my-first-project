{
  "nbformat": 4,
  "nbformat_minor": 0,
  "metadata": {
    "colab": {
      "name": "Rideshare Reviews - Analyst Output",
      "provenance": [],
      "collapsed_sections": [],
      "include_colab_link": true
    },
    "kernelspec": {
      "name": "python3",
      "display_name": "Python 3"
    },
    "language_info": {
      "name": "python"
    }
  },
  "cells": [
    {
      "cell_type": "markdown",
      "metadata": {
        "id": "view-in-github",
        "colab_type": "text"
      },
      "source": [
        "<a href=\"https://colab.research.google.com/github/WeiyangBellaBao/my-first-project/blob/main/Rideshare_Reviews_Analyst_Output.ipynb\" target=\"_parent\"><img src=\"https://colab.research.google.com/assets/colab-badge.svg\" alt=\"Open In Colab\"/></a>"
      ]
    },
    {
      "cell_type": "markdown",
      "metadata": {
        "id": "k9ArRInv-6zR"
      },
      "source": [
        "# About\n",
        "\n",
        "Here is my work for the review of the client's idea.\n",
        "\n",
        "I used the original dataset supplied by the client at the URL below:\n",
        "\n",
        "```\n",
        "https://raw.githubusercontent.com/Btibert3/datasets/master/rideshare.csv\n",
        "```"
      ]
    },
    {
      "cell_type": "code",
      "metadata": {
        "id": "YNMKAO70_Da2"
      },
      "source": [
        "# imports\n",
        "import pandas as pd\n",
        "from sklearn.feature_extraction.text import CountVectorizer\n",
        "from sklearn.tree import DecisionTreeClassifier\n",
        "from sklearn import metrics"
      ],
      "execution_count": null,
      "outputs": []
    },
    {
      "cell_type": "code",
      "metadata": {
        "id": "CYvVMl-N_ONc"
      },
      "source": [
        "# bring in the data\n",
        "df = pd.read_csv(\"https://raw.githubusercontent.com/Btibert3/datasets/master/rideshare.csv\")"
      ],
      "execution_count": null,
      "outputs": []
    },
    {
      "cell_type": "code",
      "metadata": {
        "colab": {
          "base_uri": "https://localhost:8080/"
        },
        "id": "02YyrffC_QpE",
        "outputId": "98a3551d-e14e-47e2-f1a8-ae6b4986a693"
      },
      "source": [
        "# shape\n",
        "df.shape"
      ],
      "execution_count": null,
      "outputs": [
        {
          "output_type": "execute_result",
          "data": {
            "text/plain": [
              "(1000, 2)"
            ]
          },
          "metadata": {},
          "execution_count": 3
        }
      ]
    },
    {
      "cell_type": "code",
      "metadata": {
        "colab": {
          "base_uri": "https://localhost:8080/",
          "height": 143
        },
        "id": "4R41Fjxt_ZkR",
        "outputId": "32f2538e-8b30-4753-f265-103311cff9b4"
      },
      "source": [
        "# sample\n",
        "df.sample(3)"
      ],
      "execution_count": null,
      "outputs": [
        {
          "output_type": "execute_result",
          "data": {
            "text/html": [
              "<div>\n",
              "<style scoped>\n",
              "    .dataframe tbody tr th:only-of-type {\n",
              "        vertical-align: middle;\n",
              "    }\n",
              "\n",
              "    .dataframe tbody tr th {\n",
              "        vertical-align: top;\n",
              "    }\n",
              "\n",
              "    .dataframe thead th {\n",
              "        text-align: right;\n",
              "    }\n",
              "</style>\n",
              "<table border=\"1\" class=\"dataframe\">\n",
              "  <thead>\n",
              "    <tr style=\"text-align: right;\">\n",
              "      <th></th>\n",
              "      <th>ride_review</th>\n",
              "      <th>ride_rating</th>\n",
              "    </tr>\n",
              "  </thead>\n",
              "  <tbody>\n",
              "    <tr>\n",
              "      <th>651</th>\n",
              "      <td>I Boston business Today I send Uber pick lunch...</td>\n",
              "      <td>1</td>\n",
              "    </tr>\n",
              "    <tr>\n",
              "      <th>318</th>\n",
              "      <td>I uber driver I money get customers Rating loa...</td>\n",
              "      <td>1</td>\n",
              "    </tr>\n",
              "    <tr>\n",
              "      <th>301</th>\n",
              "      <td>Uber customer service non existent They respon...</td>\n",
              "      <td>1</td>\n",
              "    </tr>\n",
              "  </tbody>\n",
              "</table>\n",
              "</div>"
            ],
            "text/plain": [
              "                                           ride_review  ride_rating\n",
              "651  I Boston business Today I send Uber pick lunch...            1\n",
              "318  I uber driver I money get customers Rating loa...            1\n",
              "301  Uber customer service non existent They respon...            1"
            ]
          },
          "metadata": {},
          "execution_count": 4
        }
      ]
    },
    {
      "cell_type": "code",
      "metadata": {
        "id": "dVj6ZXkMAu0f"
      },
      "source": [
        "# data cleaning\n",
        "df.dropna(inplace=True)"
      ],
      "execution_count": null,
      "outputs": []
    },
    {
      "cell_type": "code",
      "metadata": {
        "id": "rrHNG3Bl_biJ"
      },
      "source": [
        "# tokenize the text\n",
        "cv = CountVectorizer(max_features=30)\n",
        "dtm = cv.fit_transform(df.ride_review).toarray()"
      ],
      "execution_count": null,
      "outputs": []
    },
    {
      "cell_type": "code",
      "metadata": {
        "id": "ZV8EoPRQAQ4g"
      },
      "source": [
        "# make a dataset for the model\n",
        "df2 = pd.DataFrame(dtm, columns=cv.get_feature_names_out())\n"
      ],
      "execution_count": null,
      "outputs": []
    },
    {
      "cell_type": "code",
      "metadata": {
        "colab": {
          "base_uri": "https://localhost:8080/",
          "height": 163
        },
        "id": "PGpWkvwcAiiW",
        "outputId": "59ffc5d3-6c55-45b4-a7dd-8f6969bb3fdc"
      },
      "source": [
        "# quick confirmation\n",
        "df2.sample(3)"
      ],
      "execution_count": null,
      "outputs": [
        {
          "output_type": "execute_result",
          "data": {
            "text/html": [
              "<div>\n",
              "<style scoped>\n",
              "    .dataframe tbody tr th:only-of-type {\n",
              "        vertical-align: middle;\n",
              "    }\n",
              "\n",
              "    .dataframe tbody tr th {\n",
              "        vertical-align: top;\n",
              "    }\n",
              "\n",
              "    .dataframe thead th {\n",
              "        text-align: right;\n",
              "    }\n",
              "</style>\n",
              "<table border=\"1\" class=\"dataframe\">\n",
              "  <thead>\n",
              "    <tr style=\"text-align: right;\">\n",
              "      <th></th>\n",
              "      <th>account</th>\n",
              "      <th>app</th>\n",
              "      <th>back</th>\n",
              "      <th>car</th>\n",
              "      <th>card</th>\n",
              "      <th>charged</th>\n",
              "      <th>company</th>\n",
              "      <th>customer</th>\n",
              "      <th>driver</th>\n",
              "      <th>drivers</th>\n",
              "      <th>even</th>\n",
              "      <th>get</th>\n",
              "      <th>got</th>\n",
              "      <th>it</th>\n",
              "      <th>minutes</th>\n",
              "      <th>money</th>\n",
              "      <th>never</th>\n",
              "      <th>one</th>\n",
              "      <th>phone</th>\n",
              "      <th>ride</th>\n",
              "      <th>said</th>\n",
              "      <th>service</th>\n",
              "      <th>take</th>\n",
              "      <th>the</th>\n",
              "      <th>they</th>\n",
              "      <th>time</th>\n",
              "      <th>told</th>\n",
              "      <th>trip</th>\n",
              "      <th>uber</th>\n",
              "      <th>use</th>\n",
              "    </tr>\n",
              "  </thead>\n",
              "  <tbody>\n",
              "    <tr>\n",
              "      <th>463</th>\n",
              "      <td>0</td>\n",
              "      <td>0</td>\n",
              "      <td>0</td>\n",
              "      <td>0</td>\n",
              "      <td>0</td>\n",
              "      <td>0</td>\n",
              "      <td>0</td>\n",
              "      <td>0</td>\n",
              "      <td>0</td>\n",
              "      <td>3</td>\n",
              "      <td>1</td>\n",
              "      <td>1</td>\n",
              "      <td>0</td>\n",
              "      <td>0</td>\n",
              "      <td>0</td>\n",
              "      <td>1</td>\n",
              "      <td>0</td>\n",
              "      <td>2</td>\n",
              "      <td>0</td>\n",
              "      <td>0</td>\n",
              "      <td>0</td>\n",
              "      <td>0</td>\n",
              "      <td>0</td>\n",
              "      <td>0</td>\n",
              "      <td>2</td>\n",
              "      <td>2</td>\n",
              "      <td>0</td>\n",
              "      <td>0</td>\n",
              "      <td>5</td>\n",
              "      <td>1</td>\n",
              "    </tr>\n",
              "    <tr>\n",
              "      <th>580</th>\n",
              "      <td>0</td>\n",
              "      <td>0</td>\n",
              "      <td>1</td>\n",
              "      <td>0</td>\n",
              "      <td>0</td>\n",
              "      <td>0</td>\n",
              "      <td>0</td>\n",
              "      <td>0</td>\n",
              "      <td>2</td>\n",
              "      <td>0</td>\n",
              "      <td>0</td>\n",
              "      <td>1</td>\n",
              "      <td>1</td>\n",
              "      <td>0</td>\n",
              "      <td>0</td>\n",
              "      <td>0</td>\n",
              "      <td>0</td>\n",
              "      <td>0</td>\n",
              "      <td>0</td>\n",
              "      <td>1</td>\n",
              "      <td>1</td>\n",
              "      <td>0</td>\n",
              "      <td>1</td>\n",
              "      <td>0</td>\n",
              "      <td>0</td>\n",
              "      <td>0</td>\n",
              "      <td>2</td>\n",
              "      <td>0</td>\n",
              "      <td>3</td>\n",
              "      <td>0</td>\n",
              "    </tr>\n",
              "    <tr>\n",
              "      <th>689</th>\n",
              "      <td>0</td>\n",
              "      <td>0</td>\n",
              "      <td>0</td>\n",
              "      <td>1</td>\n",
              "      <td>0</td>\n",
              "      <td>0</td>\n",
              "      <td>0</td>\n",
              "      <td>1</td>\n",
              "      <td>0</td>\n",
              "      <td>0</td>\n",
              "      <td>0</td>\n",
              "      <td>2</td>\n",
              "      <td>0</td>\n",
              "      <td>0</td>\n",
              "      <td>1</td>\n",
              "      <td>0</td>\n",
              "      <td>0</td>\n",
              "      <td>1</td>\n",
              "      <td>0</td>\n",
              "      <td>0</td>\n",
              "      <td>2</td>\n",
              "      <td>1</td>\n",
              "      <td>0</td>\n",
              "      <td>0</td>\n",
              "      <td>0</td>\n",
              "      <td>0</td>\n",
              "      <td>0</td>\n",
              "      <td>3</td>\n",
              "      <td>3</td>\n",
              "      <td>0</td>\n",
              "    </tr>\n",
              "  </tbody>\n",
              "</table>\n",
              "</div>"
            ],
            "text/plain": [
              "     account  app  back  car  card  charged  ...  they  time  told  trip  uber  use\n",
              "463        0    0     0    0     0        0  ...     2     2     0     0     5    1\n",
              "580        0    0     1    0     0        0  ...     0     0     2     0     3    0\n",
              "689        0    0     0    1     0        0  ...     0     0     0     3     3    0\n",
              "\n",
              "[3 rows x 30 columns]"
            ]
          },
          "metadata": {},
          "execution_count": 8
        }
      ]
    },
    {
      "cell_type": "code",
      "metadata": {
        "colab": {
          "base_uri": "https://localhost:8080/"
        },
        "id": "WSCBlZezAkqW",
        "outputId": "91df9207-1a4a-4327-abae-433eb7d5caad"
      },
      "source": [
        "# fit the model\n",
        "tree = DecisionTreeClassifier(min_samples_leaf=1000, min_samples_split=2000, random_state=820)\n",
        "tree.fit(df2, df.ride_rating)"
      ],
      "execution_count": null,
      "outputs": [
        {
          "output_type": "execute_result",
          "data": {
            "text/plain": [
              "DecisionTreeClassifier(min_samples_leaf=1000, min_samples_split=2000,\n",
              "                       random_state=820)"
            ]
          },
          "metadata": {},
          "execution_count": 9
        }
      ]
    },
    {
      "cell_type": "code",
      "metadata": {
        "colab": {
          "base_uri": "https://localhost:8080/"
        },
        "id": "lLoP01wDBZgb",
        "outputId": "991611f9-f344-4ac0-a2d9-3eb50d87c29d"
      },
      "source": [
        "# how well do the model do?\n",
        "cr = metrics.classification_report(df.ride_rating, tree.predict(df2))\n",
        "print(cr)"
      ],
      "execution_count": null,
      "outputs": [
        {
          "output_type": "stream",
          "name": "stdout",
          "text": [
            "              precision    recall  f1-score   support\n",
            "\n",
            "           1       0.77      1.00      0.87       766\n",
            "           2       0.00      0.00      0.00        54\n",
            "           3       0.00      0.00      0.00        42\n",
            "           4       0.00      0.00      0.00        47\n",
            "           5       0.00      0.00      0.00        91\n",
            "\n",
            "    accuracy                           0.77      1000\n",
            "   macro avg       0.15      0.20      0.17      1000\n",
            "weighted avg       0.59      0.77      0.66      1000\n",
            "\n"
          ]
        },
        {
          "output_type": "stream",
          "name": "stderr",
          "text": [
            "/usr/local/lib/python3.7/dist-packages/sklearn/metrics/_classification.py:1308: UndefinedMetricWarning: Precision and F-score are ill-defined and being set to 0.0 in labels with no predicted samples. Use `zero_division` parameter to control this behavior.\n",
            "  _warn_prf(average, modifier, msg_start, len(result))\n",
            "/usr/local/lib/python3.7/dist-packages/sklearn/metrics/_classification.py:1308: UndefinedMetricWarning: Precision and F-score are ill-defined and being set to 0.0 in labels with no predicted samples. Use `zero_division` parameter to control this behavior.\n",
            "  _warn_prf(average, modifier, msg_start, len(result))\n",
            "/usr/local/lib/python3.7/dist-packages/sklearn/metrics/_classification.py:1308: UndefinedMetricWarning: Precision and F-score are ill-defined and being set to 0.0 in labels with no predicted samples. Use `zero_division` parameter to control this behavior.\n",
            "  _warn_prf(average, modifier, msg_start, len(result))\n"
          ]
        }
      ]
    },
    {
      "cell_type": "markdown",
      "metadata": {
        "id": "ONVREdDqBzz_"
      },
      "source": [
        " - 77% accurate\n",
        " - perfect recall on the lowest rating of 1!\n",
        "\n",
        "\n",
        " > My opinion is that we can work with the client to deploy the sampling strategy via the app, as we can predict the ratings well enough when there isn't one supplied."
      ]
    },
    {
      "cell_type": "code",
      "metadata": {
        "id": "8Peg2d92DUcI"
      },
      "source": [
        ""
      ],
      "execution_count": null,
      "outputs": []
    }
  ]
}